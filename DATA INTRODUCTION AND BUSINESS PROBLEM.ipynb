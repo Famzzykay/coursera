{
    "cells": [
        {
            "cell_type": "markdown",
            "metadata": {
                "collapsed": true
            },
            "source": "# STARTING A BUSINESS IN CHICAGO"
        },
        {
            "cell_type": "markdown",
            "metadata": {},
            "source": "### The success of running a business in the city relies on several factors such as the population of the city, the locality in which the business will be situated and the type of commodity or service which the business will be providing to the populace.\n### Of these factors, one major question is the security of the community within which the business is to be established. In order to get information on how secure the area is, one can visit the local authorities such as the police or any other agency responsible for upholding the law. However, comparing this information verbally can prove to be inaccurate and very hard to compare when information is collected arbitrarily.\n\n###        This notebook focuses visualizing the areas most active in terms of crime within chicago. This is to help potential business owners of entrepreneurs understand the types of crimes pre-recorded in such areas. Also the notebook will help in making decisions on the most safe areas or to choose areas they percieve has an crime rate that they can live with.\n\n# DATA UTILIZATION\n\n### A sample csv file containing crime data for chicago will be obtained from(https://ibm.box.com/shared/static/svflyugsr9zbqy5bmowgswqemfpm1x7f.csv) site. The data is an extract of the crime data recorded between 2012 and 2018.\n### The csv file has columns for the coordinates(latitude and longitude) of the locations where each crime was committed. The coodinates on the "
        },
        {
            "cell_type": "code",
            "execution_count": null,
            "metadata": {},
            "outputs": [],
            "source": ""
        }
    ],
    "metadata": {
        "kernelspec": {
            "display_name": "Python 3.6",
            "language": "python",
            "name": "python3"
        },
        "language_info": {
            "codemirror_mode": {
                "name": "ipython",
                "version": 3
            },
            "file_extension": ".py",
            "mimetype": "text/x-python",
            "name": "python",
            "nbconvert_exporter": "python",
            "pygments_lexer": "ipython3",
            "version": "3.6.9"
        }
    },
    "nbformat": 4,
    "nbformat_minor": 1
}